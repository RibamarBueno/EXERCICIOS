{
  "nbformat": 4,
  "nbformat_minor": 0,
  "metadata": {
    "colab": {
      "provenance": [],
      "authorship_tag": "ABX9TyNA9q+MFFnDvzTusuhF+Sv7",
      "include_colab_link": true
    },
    "kernelspec": {
      "name": "python3",
      "display_name": "Python 3"
    },
    "language_info": {
      "name": "python"
    }
  },
  "cells": [
    {
      "cell_type": "markdown",
      "metadata": {
        "id": "view-in-github",
        "colab_type": "text"
      },
      "source": [
        "<a href=\"https://colab.research.google.com/github/RibamarBueno/EXERCICIOS/blob/main/EXERCICIO_2.ipynb\" target=\"_parent\"><img src=\"https://colab.research.google.com/assets/colab-badge.svg\" alt=\"Open In Colab\"/></a>"
      ]
    },
    {
      "cell_type": "code",
      "execution_count": null,
      "metadata": {
        "colab": {
          "base_uri": "https://localhost:8080/"
        },
        "id": "v6IvpiLnBbVn",
        "outputId": "730bea55-db9e-4f3e-c82b-827238941be1"
      },
      "outputs": [
        {
          "output_type": "stream",
          "name": "stdout",
          "text": [
            "Bem vindo, a Açaiteria do Ribamar Bueno.\n",
            "----------------CARDÁPIO----------------\n",
            "--|TAMANHO|  |CUPUAÇU(CP)|  |AÇAI(AC)|--\n",
            "--|   P   |  | R$:10,00  |  |R$:12,00|--\n",
            "--|   M   |  | R$:15,00  |  |R$:17,00|--\n",
            "--|   G   |  | R$:19,00  |  |R$:21,00|--\n",
            "----------------------------------------\n",
            "Digite qual o tamanho desejado? (P/M/G)\n",
            "i\n",
            "Opção invalida, os tamanhos são P, M, G.\n",
            "Digite qual o tamanho desejado? (P/M/G)\n",
            "g\n",
            "Qual produto voc deseja comprar?(CP/AC)\n",
            "op\n",
            "Opção inválida, as opções de proutos são: (CP/AC) \n",
            "Digite qual o tamanho desejado? (P/M/G)\n",
            "g\n",
            "Qual produto voc deseja comprar?(CP/AC)\n",
            "cp\n",
            "Vocé escolheu um AÇAI GRANDE.\n",
            "O seu pedido esta em R$19.00\n",
            "Deseja pedir algo mais ?(S/qualquer tecla)s\n",
            "Digite qual o tamanho desejado? (P/M/G)\n",
            "p\n",
            "Qual produto voc deseja comprar?(CP/AC)\n",
            "ac\n",
            "Vocé escolheu um AÇAI PEQUENO.\n",
            "O seu pedido esta em R$31.00\n",
            "Deseja pedir algo mais ?(S/qualquer tecla)k\n",
            "O valor total a ser pago é de : R$31.00\n"
          ]
        }
      ],
      "source": [
        "print(\"Bem vindo, a Açaiteria do Ribamar Bueno.\")\n",
        "print(\"----------------CARDÁPIO----------------\")\n",
        "print(\"--|TAMANHO|  |CUPUAÇU(CP)|  |AÇAI(AC)|--\")\n",
        "print(\"--|   P   |  | R$:10,00  |  |R$:12,00|--\")\n",
        "print(\"--|   M   |  | R$:15,00  |  |R$:17,00|--\")\n",
        "print(\"--|   G   |  | R$:19,00  |  |R$:21,00|--\")\n",
        "print(\"----------------------------------------\")\n",
        "\n",
        "acumulador = 0 #Para fazer a contagem dos valores\n",
        "\n",
        "while True:\n",
        "  tamanho = input(\"Digite qual o tamanho desejado? (P/M/G)\\n\")\n",
        "  tamanho = tamanho.upper()#Foi usado 3x neste projeto, para que o usuário não tenha problema com letras maiúsculas ou minusculas\n",
        "\n",
        "  if tamanho !='P' and tamanho != 'M' and  tamanho != 'G' :\n",
        "    print('Opção invalida, os tamanhos são P, M, G.')\n",
        "    continue # se o usuário digitar algo inválido volta para o começo do while\n",
        "\n",
        "  produto = input(\"Qual produto voc deseja comprar?(CP/AC)\\n\")\n",
        "  produto = produto.upper()\n",
        "  if produto != 'AC'  and produto != 'CP' :\n",
        "    print('Opção inválida, as opções de proutos são: (CP/AC) ')\n",
        "    continue\n",
        "\n",
        "  if produto == 'AC' and tamanho == 'P':\n",
        "    print('Vocé escolheu um AÇAI PEQUENO.')\n",
        "    acumulador = acumulador + 12\n",
        "\n",
        "  elif produto == 'AC' and tamanho == 'M':\n",
        "    print('Vocé escolheu um AÇAI MÉDIO.')\n",
        "    acumulador = acumulador + 17\n",
        "\n",
        "  elif produto == 'AC' and tamanho == 'G':\n",
        "    print('Vocé escolheu um AÇAI GRANDE.')\n",
        "    acumulador = acumulador + 21\n",
        "\n",
        "  if produto == 'CP' and tamanho == 'P':\n",
        "    print('Vocé escolheu um AÇAI PEQUENO.')\n",
        "    acumulador = acumulador + 10\n",
        "\n",
        "  elif produto == 'CP' and tamanho == 'M':\n",
        "    print('Vocé escolheu um AÇAI MÉDIO.')\n",
        "    acumulador = acumulador + 15\n",
        "\n",
        "  elif produto == 'CP' and tamanho == 'G':\n",
        "    print('Vocé escolheu um AÇAI GRANDE.')\n",
        "    acumulador = acumulador + 19\n",
        "\n",
        "\n",
        "  print (\"O seu pedido esta em R${:.2f}\".format(acumulador))\n",
        "\n",
        "  pedir_mais= input(\"Deseja pedir algo mais ?(S/qualquer tecla)\")\n",
        "  pedir_mais=pedir_mais.upper()\n",
        "\n",
        "  if pedir_mais == \"S\": # Se o clinete digitar algo diferente de s, ele lança a procima menssagem e para.\n",
        "    continue\n",
        "  else:\n",
        "    print(\"O valor total a ser pago é de : R${:.2f}\".format(acumulador))\n",
        "    break #Encerra o código."
      ]
    }
  ]
}