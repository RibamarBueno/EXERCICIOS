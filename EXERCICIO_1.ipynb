{
  "nbformat": 4,
  "nbformat_minor": 0,
  "metadata": {
    "colab": {
      "provenance": [],
      "authorship_tag": "ABX9TyN6n8m8uuv9Eipz7CeDcdo7",
      "include_colab_link": true
    },
    "kernelspec": {
      "name": "python3",
      "display_name": "Python 3"
    },
    "language_info": {
      "name": "python"
    }
  },
  "cells": [
    {
      "cell_type": "markdown",
      "metadata": {
        "id": "view-in-github",
        "colab_type": "text"
      },
      "source": [
        "<a href=\"https://colab.research.google.com/github/RibamarBueno/EXERCICIOS/blob/main/EXERCICIO_1.ipynb\" target=\"_parent\"><img src=\"https://colab.research.google.com/assets/colab-badge.svg\" alt=\"Open In Colab\"/></a>"
      ]
    },
    {
      "cell_type": "code",
      "execution_count": null,
      "metadata": {
        "id": "pd5QAXrlYHTP",
        "colab": {
          "base_uri": "https://localhost:8080/"
        },
        "outputId": "45c0026a-7dbf-4399-ac3b-e8a9ebb312e1"
      },
      "outputs": [
        {
          "output_type": "stream",
          "name": "stdout",
          "text": [
            "Bem vindo, a Loja Ribamar Bueno Atacado.\n",
            "Qual o valor do produto?\n",
            "10\n",
            "Qual a quantidade do produto?\n",
            "500\n",
            "O valor da sua compra SEM desconto foi de R$:5000.00 isso te da um desconto de 8.0%.\n",
            "O valor de sua compra COM o desconto fica R$:4600.00\n"
          ]
        }
      ],
      "source": [
        "print ('Bem vindo, a Loja Ribamar Bueno Atacado.')\n",
        "vp= float(input(\"Qual o valor do produto?\\n\")) # vp = valor produto\n",
        "qp= float(input('Qual a quantidade do produto?\\n')) # qp = quantidade do produto\n",
        "ct=vp*qp # ct= compra total (valor do produto X quantidade do produto)\n",
        "desc = 0\n",
        "if ct < 1000:\n",
        "  desc=0.00 # desc =  \"valor do desconto\"\n",
        "  sd=ct-1000\n",
        "  print(\"Compras abaixo de R$:1.000,00, não geram desconto, mas falta apenas R$:{:.2f}, para ter direito ao desconto, aproveite.\".format(-sd))\n",
        "#elif qp >=5 and qp<+19:\n",
        "elif  1000 <= ct < 3000:\n",
        "  desc = 0.03 # eu poderia colocar desc=0.03*100, mas preferi colocar no format, assim faço isso apenas uma vez.\n",
        "elif  3000 <= ct < 5000:\n",
        "  desc = 0.06\n",
        "else:\n",
        "  desc = 0.08\n",
        "\n",
        "desconto = ct*desc # desconto = seria o valor do desconto em si.\n",
        "vd=-(desconto-ct) # vd = valor do desconto, que seria o desconto - o valor total da compra.\n",
        "\n",
        "print(\"O valor da sua compra SEM desconto foi de R$:{:.2f} isso te da um desconto de {}%.\\nO valor de sua compra COM o desconto fica R$:{:.2f}\".format(ct,desc*100,vd))"
      ]
    }
  ]
}